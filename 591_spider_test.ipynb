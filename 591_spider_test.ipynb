{
 "cells": [
  {
   "cell_type": "code",
   "execution_count": null,
   "metadata": {},
   "outputs": [],
   "source": [
    "# 匯入所需的套件\n",
    "\n",
    "# 引入 Selenium 的 webdriver 模組，用於操作瀏覽器 打開網頁、點擊元素、獲取內容等\n",
    "from selenium import webdriver\n",
    "\n",
    "# 引入 Service 類，用於設置 ChromeDriver 的服務 需要時啟動和停止\n",
    "from selenium.webdriver.chrome.service import Service\n",
    "\n",
    "# 引入 ChromeDriverManager 類，能自動下載和管理適合當前 Chrome 版本的 ChromeDriver\n",
    "from webdriver_manager.chrome import ChromeDriverManager\n",
    "\n",
    "# 引入異常類型，用於處理網頁元素查找和超時錯誤\n",
    "# TimeoutException：當等待某個條件超過指定時間但條件未滿足時拋出的異常。\n",
    "# NoSuchElementException：當嘗試查找不存在的網頁元素時拋出的異常。\n",
    "from selenium.common.exceptions import TimeoutException, NoSuchElementException\n",
    "\n",
    "# 引入 WebDriverWait 類，用於設置顯示等待 以確保某些條件滿足後再進行後續操作\n",
    "from selenium.webdriver.support.ui import WebDriverWait\n",
    "\n",
    "# 引入 expected_conditions 模組，用於設定等待條件\n",
    "from selenium.webdriver.support import expected_conditions as EC\n",
    "\n",
    "# 引入 By 類，用於指定元素的查找方式\n",
    "from selenium.webdriver.common.by import By\n",
    "\n",
    "# 引入 sleep 函數，用於添加延遲\n",
    "from time import sleep"
   ]
  },
  {
   "cell_type": "code",
   "execution_count": null,
   "metadata": {},
   "outputs": [],
   "source": [
    "# 瀏覽器設定\n",
    "my_options = webdriver.ChromeOptions()\n",
    "my_options.add_argument(\"--start-maximized\")           #最大化視窗\n",
    "my_options.add_argument(\"--incognito\")                 #開啟無痕模式\n",
    "my_options.add_argument(\"--disable-popup-blocking\")    #禁用彈出攔截\n",
    "my_options.add_argument(\"--disable-notifications\")     #取消 chrome 推播通知\n",
    "my_options.add_argument(\"--lang=zh-TW\")                #設定為正體中文\n",
    "\n",
    "\n",
    "# 開啟自動控制瀏覽器\n",
    "driver = webdriver.Chrome(options = my_options,)"
   ]
  },
  {
   "cell_type": "code",
   "execution_count": null,
   "metadata": {},
   "outputs": [],
   "source": [
    "# 爬蟲流程\n",
    "\n",
    "# 走訪頁面\n",
    "def visit():\n",
    "    driver.get(\"https://market.591.com.tw/list?regionId=3&postType=2,8\")\n",
    "    \n",
    "    # 等待一下\n",
    "    sleep(1)\n",
    "\n",
    "# 按鈕選擇器\n",
    "def button():\n",
    "    try:\n",
    "        # 等待元素\n",
    "        WebDriverWait(driver, 1).until(\n",
    "            EC.presence_of_element_located(\n",
    "                (By.CSS_SELECTOR, \"button.guide-button\")))\n",
    "        \n",
    "        # 使用 CSS 選擇器查找按鈕\n",
    "        button = driver.find_element(By.CSS_SELECTOR, \"button.guide-button\").click()\n",
    "    except NoSuchElementException:\n",
    "        print(\"沒有彈跳式資訊\")\n",
    "\n",
    "    # 等待一下\n",
    "    sleep(1)\n",
    "\n",
    "# 篩選 (選項)\n",
    "def filter():\n",
    "    try:\n",
    "        # 等待元素\n",
    "        WebDriverWait(driver, 1).until(\n",
    "            EC.presence_of_element_located(\n",
    "                (By.CSS_SELECTOR, \".t5-dropdown-select\")))\n",
    "        \n",
    "        # 選擇區域\n",
    "        driver.find_element(By.CSS_SELECTOR, \".t5-dropdown-select\").click()\n",
    "\n",
    "        # 選擇永和\n",
    "        driver.find_element(By.CSS_SELECTOR, \"#areaFilterItemEle17\").click()\n",
    "\n",
    "        # 選擇確定\n",
    "        driver.find_elements(By.CSS_SELECTOR, \"section.grid-filter-btn button\")[1].click()\n",
    "\n",
    "    except NoSuchElementException:\n",
    "        print(\"篩選出錯\")\n",
    "\n",
    "    # 等待一下\n",
    "    sleep(1)\n",
    "\n",
    "\n"
   ]
  },
  {
   "cell_type": "code",
   "execution_count": null,
   "metadata": {},
   "outputs": [],
   "source": [
    "if __name__ == '__main__':\n",
    "    visit()\n",
    "    button()\n",
    "    filter()"
   ]
  },
  {
   "cell_type": "code",
   "execution_count": null,
   "metadata": {},
   "outputs": [],
   "source": [
    "# 關閉瀏覽器\n",
    "#driver.quit()"
   ]
  }
 ],
 "metadata": {
  "language_info": {
   "name": "python"
  }
 },
 "nbformat": 4,
 "nbformat_minor": 2
}
